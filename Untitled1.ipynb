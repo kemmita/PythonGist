{
  "nbformat": 4,
  "nbformat_minor": 0,
  "metadata": {
    "colab": {
      "name": "Untitled1.ipynb",
      "provenance": [],
      "collapsed_sections": [],
      "authorship_tag": "ABX9TyO4UJ0e3gzJiKpzFx1+Cg0b",
      "include_colab_link": true
    },
    "kernelspec": {
      "name": "python3",
      "display_name": "Python 3"
    },
    "accelerator": "GPU"
  },
  "cells": [
    {
      "cell_type": "markdown",
      "metadata": {
        "id": "view-in-github",
        "colab_type": "text"
      },
      "source": [
        "<a href=\"https://colab.research.google.com/github/kemmita/PythonGist/blob/master/Untitled1.ipynb\" target=\"_parent\"><img src=\"https://colab.research.google.com/assets/colab-badge.svg\" alt=\"Open In Colab\"/></a>"
      ]
    },
    {
      "cell_type": "code",
      "metadata": {
        "id": "K548ytWkKfhZ",
        "colab_type": "code",
        "colab": {}
      },
      "source": [
        "import numpy as np\n",
        "import matplotlib.pyplot as plt\n",
        "from scipy import stats\n",
        "\n",
        "\n",
        "# x = total bill\n",
        "x = np.array([34.00,108.00, 64.00, 88.00, 99.00, 51.00])\n",
        "\n",
        "# y = tip\n",
        "y = np.array([5.00,17.00,11.00,8.00,14.00,5.00])\n",
        "\n",
        "# The regression formula \n",
        "# y = y, x= x, m = slope, b = y intercept\n",
        "# yhat = mx + b\n",
        "\n",
        "\n",
        "# n = the number of data points we have, which is 12. Reference\"nsumxy\" = n * sum(x*y)\n",
        "# we first need to find the slope the formula for that is m = (nsumxy - sumxsumy) / (nsumx^2 - sumx^2)\n",
        "\n",
        "def slope(x, y):\n",
        "  n = len(x)\n",
        "  sum_x = sum(x)\n",
        "  sum_xsq = sum(np.square(x))\n",
        "  sum_x_sq = sum(x)**2\n",
        "  sum_y = sum(y)\n",
        "  product_xy = sum(x * y)\n",
        "  numerator = (n * product_xy) - (sum_x * sum_y)\n",
        "  denominator = (n * sum_xsq) - (sum_x_sq)  \n",
        "  return round(numerator / denominator, 4)\n",
        "\n",
        "\n",
        "# Now we need to find the y intercept, formula b = sumy-msumx / n\n",
        "\n",
        "def y_intercept(x, y):\n",
        "  sum_y = sum(y)\n",
        "  sum_x = sum(x)\n",
        "  n = len(x)\n",
        "  m = slope(x, y)\n",
        "  return round(((sum_y - (m * sum_x)) / n), 1)\n",
        "\n",
        "def kemmit_regression(m,x,b):\n",
        "  return ((m * x) + b) "
      ],
      "execution_count": null,
      "outputs": []
    },
    {
      "cell_type": "code",
      "metadata": {
        "id": "DuN5MPA-Slnn",
        "colab_type": "code",
        "colab": {}
      },
      "source": [
        "actual = y\n",
        "predicted = kemmit_regression(slope(x, y), x, y_intercept(x, y)) \n",
        "\n",
        "sse = np.round(sum((actual - predicted)**2),4)\n",
        "ssr = np.round(sum((predicted - np.mean(y))**2), 4)\n",
        "sst = np.round(ssr + sse, 4)\n",
        "#  The root mean square error will tell us about how much our dots will deviate from the applied regression line, the smaller the better.\n",
        "rmse = np.round(np.sqrt(sum((actual - predicted)**2) / (len(x) - 1)), 1)\n",
        "#r2\n",
        "coefficient_of_determination = np.round(((ssr/sst) * 100),4) \n",
        "# z score\n",
        "x_zscore = stats.zscore(x)\n",
        "y_zscore = stats.zscore(y)"
      ],
      "execution_count": null,
      "outputs": []
    },
    {
      "cell_type": "code",
      "metadata": {
        "id": "zuj0MK1NOY59",
        "colab_type": "code",
        "colab": {
          "base_uri": "https://localhost:8080/",
          "height": 283
        },
        "outputId": "45c3f40a-8ff4-41db-be15-e1ce006580c6"
      },
      "source": [
        "plt.plot(x_zscore, y_zscore, 'o')"
      ],
      "execution_count": null,
      "outputs": [
        {
          "output_type": "execute_result",
          "data": {
            "text/plain": [
              "[<matplotlib.lines.Line2D at 0x7fdfa7e9a908>]"
            ]
          },
          "metadata": {
            "tags": []
          },
          "execution_count": 63
        },
        {
          "output_type": "display_data",
          "data": {
            "image/png": "[encoded data removed]",
            "text/plain": [
              "<Figure size 432x288 with 1 Axes>"
            ]
          },
          "metadata": {
            "tags": [],
            "needs_background": "light"
          }
        }
      ]
    },
    {
      "cell_type": "code",
      "metadata": {
        "id": "o46SO38K3sC8",
        "colab_type": "code",
        "colab": {
          "base_uri": "https://localhost:8080/",
          "height": 283
        },
        "outputId": "8c375de2-afa5-45cb-92b2-306b5d47a2f3"
      },
      "source": [
        "plt.plot(x, y, 'o')"
      ],
      "execution_count": null,
      "outputs": [
        {
          "output_type": "execute_result",
          "data": {
            "text/plain": [
              "[<matplotlib.lines.Line2D at 0x7fdfa7e76a20>]"
            ]
          },
          "metadata": {
            "tags": []
          },
          "execution_count": 64
        },
        {
          "output_type": "display_data",
          "data": {
            "image/png": "[encoded data removed]",
            "text/plain": [
              "<Figure size 432x288 with 1 Axes>"
            ]
          },
          "metadata": {
            "tags": [],
            "needs_background": "light"
          }
        }
      ]
    }
  ]
}